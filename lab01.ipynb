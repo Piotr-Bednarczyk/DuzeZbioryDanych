{
 "cells": [
  {
   "cell_type": "code",
   "execution_count": 1,
   "id": "initial_id",
   "metadata": {
    "ExecuteTime": {
     "end_time": "2024-10-26T20:10:42.064497Z",
     "start_time": "2024-10-26T20:10:32.723044Z"
    },
    "collapsed": true
   },
   "outputs": [],
   "source": [
    "import pyarrow.parquet as pq\n",
    "import pandas as pd\n",
    "\n",
    "\n",
    "file_1_path = '0000.parquet'\n",
    "file_2_path = '0001.parquet'\n",
    "\n",
    "\n",
    "df1 = pd.read_parquet(file_1_path)\n",
    "df2 = pd.read_parquet(file_2_path)\n",
    "\n",
    "\n",
    "combined_df = pd.concat([df1, df2], ignore_index=True)\n",
    "\n",
    "\n",
    "\n",
    "data_types = combined_df.dtypes\n",
    "\n",
    "\n",
    "\n",
    "memory_usage = combined_df.memory_usage(deep=True).sum()"
   ]
  },
  {
   "cell_type": "code",
   "execution_count": 2,
   "id": "7bdd4efcebea0e4f",
   "metadata": {
    "ExecuteTime": {
     "end_time": "2024-10-26T20:10:42.095483Z",
     "start_time": "2024-10-26T20:10:42.086519Z"
    }
   },
   "outputs": [
    {
     "name": "stdout",
     "output_type": "stream",
     "text": [
      "sid                     int64\n",
      "sid_profile             int64\n",
      "post_id                object\n",
      "profile_id              int64\n",
      "date                   object\n",
      "post_type               int64\n",
      "description            object\n",
      "likes                   int64\n",
      "comments                int64\n",
      "username               object\n",
      "bio                    object\n",
      "following               int64\n",
      "followers               int64\n",
      "num_posts               int64\n",
      "is_business_account      bool\n",
      "lang                   object\n",
      "category               object\n",
      "dtype: object\n"
     ]
    }
   ],
   "source": [
    "print(data_types)"
   ]
  },
  {
   "cell_type": "code",
   "execution_count": 3,
   "id": "58b69a065aec4d37",
   "metadata": {
    "ExecuteTime": {
     "end_time": "2024-10-26T20:10:42.255098Z",
     "start_time": "2024-10-26T20:10:42.251102Z"
    }
   },
   "outputs": [
    {
     "name": "stdout",
     "output_type": "stream",
     "text": [
      "2945080851\n"
     ]
    }
   ],
   "source": [
    "print(memory_usage)"
   ]
  },
  {
   "cell_type": "code",
   "execution_count": 4,
   "id": "a89a0466d5f0a0a6",
   "metadata": {
    "ExecuteTime": {
     "end_time": "2024-10-26T20:11:02.315987Z",
     "start_time": "2024-10-26T20:10:42.296223Z"
    }
   },
   "outputs": [
    {
     "data": {
      "image/png": "[encoded data removed]",
      "text/plain": [
       "<Figure size 640x480 with 1 Axes>"
      ]
     },
     "metadata": {},
     "output_type": "display_data"
    }
   ],
   "source": [
    "import matplotlib.pyplot as plt\n",
    "\n",
    "\n",
    "def optimize_types(df):\n",
    "\n",
    "\n",
    "    for col in df.select_dtypes(include=['float']):\n",
    "        df[col] = pd.to_numeric(df[col], downcast='float')\n",
    "\n",
    "    for col in df.select_dtypes(include=['int']):\n",
    "\n",
    "        df[col] = pd.to_numeric(df[col], downcast='integer')\n",
    "\n",
    "\n",
    "    for col in df.select_dtypes(include=['object']):\n",
    "        num_unique_values = len(df[col].unique())\n",
    "        num_total_values = len(df[col])\n",
    "\n",
    "        if num_unique_values / num_total_values < 0.5:\n",
    "            df[col] = df[col].astype('category')\n",
    "    return df\n",
    "\n",
    "\n",
    "\n",
    "# Wczytanie plików i scalenie w jeden DataFrame\n",
    "\n",
    "df1 = pd.read_parquet('0000.parquet')\n",
    "df2 = pd.read_parquet('0001.parquet')\n",
    "combined_df = pd.concat([df1, df2], ignore_index=True)\n",
    "\n",
    "\n",
    "\n",
    "# Pierwsze zużycie pamięci\n",
    "memory_usage_before = combined_df.memory_usage(deep=True).sum()\n",
    "\n",
    "\n",
    "\n",
    "# Optymalizacja typów danych\n",
    "optimized_df = optimize_types(combined_df)\n",
    "\n",
    "\n",
    "\n",
    "# Zużycie pamięci po optymalizacji\n",
    "memory_usage_after = optimized_df.memory_usage(deep=True).sum()\n",
    "\n",
    "\n",
    "labels = ['Before Optimization', 'After Optimization']\n",
    "memory_usage_values = [memory_usage_before, memory_usage_after]\n",
    "\n",
    "\n",
    "\n",
    "plt.bar(labels, memory_usage_values)\n",
    "plt.ylabel('Memory Usage (bytes)')\n",
    "plt.title('Memory Usage Before and After Optimization')\n",
    "plt.show()"
   ]
  },
  {
   "cell_type": "code",
   "execution_count": 5,
   "id": "28053dce9ca4a098",
   "metadata": {
    "ExecuteTime": {
     "end_time": "2024-10-26T20:11:35.563696Z",
     "start_time": "2024-10-26T20:11:02.340508Z"
    }
   },
   "outputs": [
    {
     "name": "stdout",
     "output_type": "stream",
     "text": [
      "combined_dataframe.csv\n"
     ]
    }
   ],
   "source": [
    "combined_df = pd.concat([df1, df2], ignore_index=True)\n",
    "\n",
    "csv_file_path = 'combined_dataframe.csv'\n",
    "combined_df.to_csv(csv_file_path, index=False)\n",
    "print(csv_file_path)"
   ]
  },
  {
   "cell_type": "code",
   "execution_count": 6,
   "id": "a4e8fdd2424d0a2d",
   "metadata": {
    "ExecuteTime": {
     "end_time": "2024-10-26T20:12:00.512460Z",
     "start_time": "2024-10-26T20:11:35.590668Z"
    }
   },
   "outputs": [
    {
     "name": "stdout",
     "output_type": "stream",
     "text": [
      "Czas wczytania całego pliku naraz: 17.6163 sekund\n"
     ]
    }
   ],
   "source": [
    "import time\n",
    "\n",
    "# Zmierz czas wczytania całego pliku CSV naraz\n",
    "start_time = time.time()\n",
    "df = pd.read_csv('combined_dataframe.csv')\n",
    "end_time = time.time()\n",
    "\n",
    "print(f\"Czas wczytania całego pliku naraz: {end_time - start_time:.4f} sekund\")"
   ]
  },
  {
   "cell_type": "code",
   "execution_count": 7,
   "id": "e4f6cb21a21eef62",
   "metadata": {
    "ExecuteTime": {
     "end_time": "2024-10-26T20:12:23.701857Z",
     "start_time": "2024-10-26T20:12:00.545468Z"
    }
   },
   "outputs": [
    {
     "name": "stdout",
     "output_type": "stream",
     "text": [
      "Czas wczytania pliku z użyciem chunksize=100000: 22.8138 sekund\n"
     ]
    }
   ],
   "source": [
    "chunksize = 100000  # Przykładowa wartość\n",
    "\n",
    "start_time = time.time()\n",
    "df_chunks = pd.read_csv('combined_dataframe.csv', chunksize=chunksize)\n",
    "\n",
    "# Łączenie wczytanych kawałków w jedną ramkę danych\n",
    "df = pd.concat(df_chunks)\n",
    "end_time = time.time()\n",
    "\n",
    "print(f\"Czas wczytania pliku z użyciem chunksize={\n",
    "      chunksize}: {end_time - start_time:.4f} sekund\")"
   ]
  },
  {
   "cell_type": "code",
   "execution_count": 8,
   "id": "9ee1a1da5a647610",
   "metadata": {
    "ExecuteTime": {
     "end_time": "2024-10-26T20:13:08.658081Z",
     "start_time": "2024-10-26T20:12:23.725442Z"
    }
   },
   "outputs": [],
   "source": [
    "import os\n",
    "\n",
    "\n",
    "def split_csv(file_path, rows_per_chunk, output_dir):\n",
    "    df = pd.read_csv(file_path)\n",
    "    os.makedirs(output_dir, exist_ok=True)\n",
    "\n",
    "    for i, chunk in enumerate(range(0, len(df), rows_per_chunk)):\n",
    "        chunk_df = df.iloc[chunk:chunk+rows_per_chunk]\n",
    "        chunk_file = os.path.join(output_dir, f'chunk_{i}.csv')\n",
    "        chunk_df.to_csv(chunk_file, index=False)\n",
    "\n",
    "\n",
    "# Podział pliku na fragmenty, np. po 100000 wierszy\n",
    "split_csv('combined_dataframe.csv',\n",
    "          rows_per_chunk=100000, output_dir='chunks')"
   ]
  }
 ],
 "metadata": {
  "kernelspec": {
   "display_name": "Python 3",
   "language": "python",
   "name": "python3"
  },
  "language_info": {
   "codemirror_mode": {
    "name": "ipython",
    "version": 3
   },
   "file_extension": ".py",
   "mimetype": "text/x-python",
   "name": "python",
   "nbconvert_exporter": "python",
   "pygments_lexer": "ipython3",
   "version": "3.13.0"
  }
 },
 "nbformat": 4,
 "nbformat_minor": 5
}
