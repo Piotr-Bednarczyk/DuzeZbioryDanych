{
 "cells": [
  {
   "cell_type": "code",
   "execution_count": 1,
   "id": "749a35fb1f028c92",
   "metadata": {
    "ExecuteTime": {
     "end_time": "2024-10-26T22:10:46.397173Z",
     "start_time": "2024-10-26T22:10:45.079849Z"
    }
   },
   "outputs": [],
   "source": [
    "import pandas as pd\n",
    "import numpy as np\n",
    "import dask.dataframe as dd"
   ]
  },
  {
   "cell_type": "code",
   "execution_count": 2,
   "id": "752c63663e0e9f1e",
   "metadata": {
    "ExecuteTime": {
     "end_time": "2024-10-26T22:11:10.732061Z",
     "start_time": "2024-10-26T22:11:10.710549Z"
    }
   },
   "outputs": [],
   "source": [
    "file_path = 'zamowienia.csv'\n",
    "zamowienia_df = pd.read_csv(file_path)\n",
    "\n",
    "# Wprowadzenie wartości NaN w losowych miejscach\n",
    "rows_with_nan = np.random.choice(\n",
    "    range(10, len(zamowienia_df)), size=5, replace=False)\n",
    "num_cols_to_nan = min(3, len(zamowienia_df.columns))\n",
    "cols_with_nan = np.random.choice(\n",
    "    zamowienia_df.columns, size=num_cols_to_nan, replace=False)\n",
    "\n",
    "for row in rows_with_nan:\n",
    "    for col in cols_with_nan:\n",
    "        zamowienia_df.at[row, col] = np.nan\n",
    "\n",
    "missing_file_path = 'zamowienia_missing.csv'\n",
    "zamowienia_df.to_csv(missing_file_path, index=False)"
   ]
  },
  {
   "cell_type": "code",
   "execution_count": 5,
   "id": "f6b3bf0f8a3098d",
   "metadata": {
    "ExecuteTime": {
     "end_time": "2024-10-26T22:11:39.833266Z",
     "start_time": "2024-10-26T22:11:39.485166Z"
    }
   },
   "outputs": [
    {
     "name": "stdout",
     "output_type": "stream",
     "text": [
      "Typy danych w ramce Dask:\n",
      "Kraj;Sprzedawca;Data zamowienia;idZamowienia;Utarg    string[pyarrow]\n",
      "dtype: object\n",
      "\n",
      "Typy danych w oryginalnej ramce pandas:\n",
      "Kraj;Sprzedawca;Data zamowienia;idZamowienia;Utarg    object\n",
      "dtype: object\n",
      "\n",
      "Suma wartości liczbowych w ramce Dask: Series([], dtype: float64)\n",
      "\n",
      "Błąd przy sample=10: An error occurred while calling the read_csv method registered to the pandas backend.\n",
      "Original Message: Sample is not large enough to include at least one row of data. Please increase the number of bytes in `sample` in the call to `read_csv`/`read_table`\n",
      "\n",
      "Błąd przy sample=50: An error occurred while calling the read_csv method registered to the pandas backend.\n",
      "Original Message: Sample is not large enough to include at least one row of data. Please increase the number of bytes in `sample` in the call to `read_csv`/`read_table`\n",
      "\n",
      "Typy danych przy sample=100:\n",
      "Kraj;Sprzedawca;Data zamowienia;idZamowienia;Utarg    string[pyarrow]\n",
      "dtype: object\n",
      "\n",
      "Typy danych przy sample=500:\n",
      "Kraj;Sprzedawca;Data zamowienia;idZamowienia;Utarg    string[pyarrow]\n",
      "dtype: object\n"
     ]
    }
   ],
   "source": [
    "dask_df = dd.read_csv('zamowienia_missing.csv')\n",
    "\n",
    "dask_df_types = dask_df.dtypes\n",
    "print(\"Typy danych w ramce Dask:\")\n",
    "print(dask_df_types)\n",
    "\n",
    "original_df = pd.read_csv('zamowienia.csv')\n",
    "print(\"\\nTypy danych w oryginalnej ramce pandas:\")\n",
    "print(original_df.dtypes)\n",
    "\n",
    "try:\n",
    "    computed_sum = dask_df.select_dtypes(include=['number']).sum().compute()\n",
    "    print(\"\\nSuma wartości liczbowych w ramce Dask:\", computed_sum)\n",
    "except Exception as e:\n",
    "    print(\"\\nBłąd podczas sumowania:\", e)\n",
    "\n",
    "for sample_size in [10, 50, 100, 500]:\n",
    "    try:\n",
    "        dask_df = dd.read_csv('zamowienia_missing.csv', sample=sample_size)\n",
    "        print(f\"\\nTypy danych przy sample={sample_size}:\")\n",
    "        print(dask_df.dtypes)\n",
    "    except Exception as e:\n",
    "        print(f\"\\nBłąd przy sample={sample_size}:\", e)"
   ]
  },
  {
   "cell_type": "code",
   "execution_count": 15,
   "id": "6c540dfc62dca409",
   "metadata": {
    "ExecuteTime": {
     "end_time": "2024-10-26T23:25:13.639821Z",
     "start_time": "2024-10-26T23:25:10.417877Z"
    }
   },
   "outputs": [
    {
     "ename": "ImportError",
     "evalue": "Dask diagnostics requirements are not installed.\n\nPlease either conda or pip install as follows:\n\n  conda install dask                     # either conda install\n  python -m pip install \"dask[diagnostics]\" --upgrade  # or python -m pip install",
     "output_type": "error",
     "traceback": [
      "\u001b[1;31m---------------------------------------------------------------------------\u001b[0m",
      "\u001b[1;31mModuleNotFoundError\u001b[0m                       Traceback (most recent call last)",
      "File \u001b[1;32mc:\\Users\\piotr\\AppData\\Local\\Programs\\Python\\Python313\\Lib\\site-packages\\dask\\widgets\\__init__.py:4\u001b[0m\n\u001b[0;32m      3\u001b[0m \u001b[38;5;28;01mtry\u001b[39;00m:\n\u001b[1;32m----> 4\u001b[0m     \u001b[38;5;28;01mfrom\u001b[39;00m \u001b[38;5;21;01mdask\u001b[39;00m\u001b[38;5;21;01m.\u001b[39;00m\u001b[38;5;21;01mwidgets\u001b[39;00m\u001b[38;5;21;01m.\u001b[39;00m\u001b[38;5;21;01mwidgets\u001b[39;00m \u001b[38;5;28;01mimport\u001b[39;00m (\n\u001b[0;32m      5\u001b[0m         FILTERS,\n\u001b[0;32m      6\u001b[0m         TEMPLATE_PATHS,\n\u001b[0;32m      7\u001b[0m         get_environment,\n\u001b[0;32m      8\u001b[0m         get_template,\n\u001b[0;32m      9\u001b[0m     )\n\u001b[0;32m     11\u001b[0m \u001b[38;5;28;01mexcept\u001b[39;00m \u001b[38;5;167;01mImportError\u001b[39;00m \u001b[38;5;28;01mas\u001b[39;00m e:\n",
      "File \u001b[1;32mc:\\Users\\piotr\\AppData\\Local\\Programs\\Python\\Python313\\Lib\\site-packages\\dask\\widgets\\widgets.py:7\u001b[0m\n\u001b[0;32m      5\u001b[0m \u001b[38;5;28;01mimport\u001b[39;00m \u001b[38;5;21;01mos\u001b[39;00m\u001b[38;5;21;01m.\u001b[39;00m\u001b[38;5;21;01mpath\u001b[39;00m\n\u001b[1;32m----> 7\u001b[0m \u001b[38;5;28;01mfrom\u001b[39;00m \u001b[38;5;21;01mjinja2\u001b[39;00m \u001b[38;5;28;01mimport\u001b[39;00m Environment, FileSystemLoader, Template\n\u001b[0;32m      8\u001b[0m \u001b[38;5;28;01mfrom\u001b[39;00m \u001b[38;5;21;01mjinja2\u001b[39;00m\u001b[38;5;21;01m.\u001b[39;00m\u001b[38;5;21;01mexceptions\u001b[39;00m \u001b[38;5;28;01mimport\u001b[39;00m TemplateNotFound\n",
      "\u001b[1;31mModuleNotFoundError\u001b[0m: No module named 'jinja2'",
      "\nThe above exception was the direct cause of the following exception:\n",
      "\u001b[1;31mImportError\u001b[0m                               Traceback (most recent call last)",
      "File \u001b[1;32m~\\AppData\\Roaming\\Python\\Python313\\site-packages\\IPython\\core\\formatters.py:347\u001b[0m, in \u001b[0;36mBaseFormatter.__call__\u001b[1;34m(self, obj)\u001b[0m\n\u001b[0;32m    345\u001b[0m     method \u001b[38;5;241m=\u001b[39m get_real_method(obj, \u001b[38;5;28mself\u001b[39m\u001b[38;5;241m.\u001b[39mprint_method)\n\u001b[0;32m    346\u001b[0m     \u001b[38;5;28;01mif\u001b[39;00m method \u001b[38;5;129;01mis\u001b[39;00m \u001b[38;5;129;01mnot\u001b[39;00m \u001b[38;5;28;01mNone\u001b[39;00m:\n\u001b[1;32m--> 347\u001b[0m         \u001b[38;5;28;01mreturn\u001b[39;00m \u001b[43mmethod\u001b[49m\u001b[43m(\u001b[49m\u001b[43m)\u001b[49m\n\u001b[0;32m    348\u001b[0m     \u001b[38;5;28;01mreturn\u001b[39;00m \u001b[38;5;28;01mNone\u001b[39;00m\n\u001b[0;32m    349\u001b[0m \u001b[38;5;28;01melse\u001b[39;00m:\n",
      "File \u001b[1;32mc:\\Users\\piotr\\AppData\\Local\\Programs\\Python\\Python313\\Lib\\site-packages\\distributed\\client.py:1410\u001b[0m, in \u001b[0;36mClient._repr_html_\u001b[1;34m(self)\u001b[0m\n\u001b[0;32m   1406\u001b[0m     JUPYTERLAB \u001b[38;5;241m=\u001b[39m \u001b[38;5;28;01mFalse\u001b[39;00m\n\u001b[0;32m   1408\u001b[0m scheduler, info \u001b[38;5;241m=\u001b[39m \u001b[38;5;28mself\u001b[39m\u001b[38;5;241m.\u001b[39m_get_scheduler_info()\n\u001b[1;32m-> 1410\u001b[0m \u001b[38;5;28;01mreturn\u001b[39;00m \u001b[43mget_template\u001b[49m\u001b[43m(\u001b[49m\u001b[38;5;124;43m\"\u001b[39;49m\u001b[38;5;124;43mclient.html.j2\u001b[39;49m\u001b[38;5;124;43m\"\u001b[39;49m\u001b[43m)\u001b[49m\u001b[38;5;241m.\u001b[39mrender(\n\u001b[0;32m   1411\u001b[0m     \u001b[38;5;28mid\u001b[39m\u001b[38;5;241m=\u001b[39m\u001b[38;5;28mself\u001b[39m\u001b[38;5;241m.\u001b[39mid,\n\u001b[0;32m   1412\u001b[0m     scheduler\u001b[38;5;241m=\u001b[39mscheduler,\n\u001b[0;32m   1413\u001b[0m     info\u001b[38;5;241m=\u001b[39minfo,\n\u001b[0;32m   1414\u001b[0m     cluster\u001b[38;5;241m=\u001b[39m\u001b[38;5;28mself\u001b[39m\u001b[38;5;241m.\u001b[39mcluster,\n\u001b[0;32m   1415\u001b[0m     scheduler_file\u001b[38;5;241m=\u001b[39m\u001b[38;5;28mself\u001b[39m\u001b[38;5;241m.\u001b[39mscheduler_file,\n\u001b[0;32m   1416\u001b[0m     dashboard_link\u001b[38;5;241m=\u001b[39m\u001b[38;5;28mself\u001b[39m\u001b[38;5;241m.\u001b[39mdashboard_link,\n\u001b[0;32m   1417\u001b[0m     jupyterlab\u001b[38;5;241m=\u001b[39mJUPYTERLAB,\n\u001b[0;32m   1418\u001b[0m )\n",
      "File \u001b[1;32mc:\\Users\\piotr\\AppData\\Local\\Programs\\Python\\Python313\\Lib\\site-packages\\dask\\widgets\\__init__.py:26\u001b[0m, in \u001b[0;36mget_template\u001b[1;34m(name)\u001b[0m\n\u001b[0;32m     25\u001b[0m \u001b[38;5;28;01mdef\u001b[39;00m \u001b[38;5;21mget_template\u001b[39m(name: \u001b[38;5;28mstr\u001b[39m):\n\u001b[1;32m---> 26\u001b[0m     \u001b[38;5;28;01mraise\u001b[39;00m \u001b[38;5;167;01mImportError\u001b[39;00m(msg) \u001b[38;5;28;01mfrom\u001b[39;00m \u001b[38;5;21;01mexception\u001b[39;00m\n",
      "\u001b[1;31mImportError\u001b[0m: Dask diagnostics requirements are not installed.\n\nPlease either conda or pip install as follows:\n\n  conda install dask                     # either conda install\n  python -m pip install \"dask[diagnostics]\" --upgrade  # or python -m pip install"
     ]
    },
    {
     "data": {
      "text/plain": [
       "<Client: 'tcp://127.0.0.1:62139' processes=2 threads=4, memory=14.90 GiB>"
      ]
     },
     "execution_count": 15,
     "metadata": {},
     "output_type": "execute_result"
    }
   ],
   "source": [
    "from dask.distributed import Client\n",
    "import time\n",
    "client = Client(\n",
    "    memory_limit='8GB',\n",
    "    n_workers=2,\n",
    "    threads_per_worker=2,\n",
    "    local_directory='C:/path/to/local/temp',\n",
    "    dashboard_address=':9000'\n",
    ")\n",
    "client"
   ]
  },
  {
   "cell_type": "code",
   "execution_count": 16,
   "id": "fd6f5cddbf2fc3cd",
   "metadata": {
    "ExecuteTime": {
     "end_time": "2024-10-26T23:25:17.269765Z",
     "start_time": "2024-10-26T23:25:17.085117Z"
    }
   },
   "outputs": [],
   "source": [
    "import dask\n",
    "dask.config.refresh()\n",
    "client.close()"
   ]
  },
  {
   "cell_type": "code",
   "execution_count": 17,
   "id": "ecd2c968fd3e65a8",
   "metadata": {
    "ExecuteTime": {
     "end_time": "2024-10-26T23:21:38.342359Z",
     "start_time": "2024-10-26T23:21:38.319721Z"
    }
   },
   "outputs": [
    {
     "ename": "RuntimeError",
     "evalue": "IOLoop is closed",
     "output_type": "error",
     "traceback": [
      "\u001b[1;31m---------------------------------------------------------------------------\u001b[0m",
      "\u001b[1;31mRuntimeError\u001b[0m                              Traceback (most recent call last)",
      "Cell \u001b[1;32mIn[17], line 1\u001b[0m\n\u001b[1;32m----> 1\u001b[0m \u001b[38;5;28mprint\u001b[39m(\u001b[43mclient\u001b[49m\u001b[38;5;241;43m.\u001b[39;49m\u001b[43mscheduler_info\u001b[49m\u001b[43m(\u001b[49m\u001b[43m)\u001b[49m)\n",
      "File \u001b[1;32mc:\\Users\\piotr\\AppData\\Local\\Programs\\Python\\Python313\\Lib\\site-packages\\distributed\\client.py:4466\u001b[0m, in \u001b[0;36mClient.scheduler_info\u001b[1;34m(self, **kwargs)\u001b[0m\n\u001b[0;32m   4445\u001b[0m \u001b[38;5;250m\u001b[39m\u001b[38;5;124;03m\"\"\"Basic information about the workers in the cluster\u001b[39;00m\n\u001b[0;32m   4446\u001b[0m \n\u001b[0;32m   4447\u001b[0m \u001b[38;5;124;03mParameters\u001b[39;00m\n\u001b[1;32m   (...)\u001b[0m\n\u001b[0;32m   4463\u001b[0m \u001b[38;5;124;03m                                 'time-delay': 0.0061032772064208984}}}\u001b[39;00m\n\u001b[0;32m   4464\u001b[0m \u001b[38;5;124;03m\"\"\"\u001b[39;00m\n\u001b[0;32m   4465\u001b[0m \u001b[38;5;28;01mif\u001b[39;00m \u001b[38;5;129;01mnot\u001b[39;00m \u001b[38;5;28mself\u001b[39m\u001b[38;5;241m.\u001b[39masynchronous:\n\u001b[1;32m-> 4466\u001b[0m     \u001b[38;5;28;43mself\u001b[39;49m\u001b[38;5;241;43m.\u001b[39;49m\u001b[43msync\u001b[49m\u001b[43m(\u001b[49m\u001b[38;5;28;43mself\u001b[39;49m\u001b[38;5;241;43m.\u001b[39;49m\u001b[43m_update_scheduler_info\u001b[49m\u001b[43m)\u001b[49m\n\u001b[0;32m   4467\u001b[0m \u001b[38;5;28;01mreturn\u001b[39;00m \u001b[38;5;28mself\u001b[39m\u001b[38;5;241m.\u001b[39m_scheduler_identity\n",
      "File \u001b[1;32mc:\\Users\\piotr\\AppData\\Local\\Programs\\Python\\Python313\\Lib\\site-packages\\distributed\\utils.py:363\u001b[0m, in \u001b[0;36mSyncMethodMixin.sync\u001b[1;34m(self, func, asynchronous, callback_timeout, *args, **kwargs)\u001b[0m\n\u001b[0;32m    361\u001b[0m     \u001b[38;5;28;01mreturn\u001b[39;00m future\n\u001b[0;32m    362\u001b[0m \u001b[38;5;28;01melse\u001b[39;00m:\n\u001b[1;32m--> 363\u001b[0m     \u001b[38;5;28;01mreturn\u001b[39;00m \u001b[43msync\u001b[49m\u001b[43m(\u001b[49m\n\u001b[0;32m    364\u001b[0m \u001b[43m        \u001b[49m\u001b[38;5;28;43mself\u001b[39;49m\u001b[38;5;241;43m.\u001b[39;49m\u001b[43mloop\u001b[49m\u001b[43m,\u001b[49m\u001b[43m \u001b[49m\u001b[43mfunc\u001b[49m\u001b[43m,\u001b[49m\u001b[43m \u001b[49m\u001b[38;5;241;43m*\u001b[39;49m\u001b[43margs\u001b[49m\u001b[43m,\u001b[49m\u001b[43m \u001b[49m\u001b[43mcallback_timeout\u001b[49m\u001b[38;5;241;43m=\u001b[39;49m\u001b[43mcallback_timeout\u001b[49m\u001b[43m,\u001b[49m\u001b[43m \u001b[49m\u001b[38;5;241;43m*\u001b[39;49m\u001b[38;5;241;43m*\u001b[39;49m\u001b[43mkwargs\u001b[49m\n\u001b[0;32m    365\u001b[0m \u001b[43m    \u001b[49m\u001b[43m)\u001b[49m\n",
      "File \u001b[1;32mc:\\Users\\piotr\\AppData\\Local\\Programs\\Python\\Python313\\Lib\\site-packages\\distributed\\utils.py:392\u001b[0m, in \u001b[0;36msync\u001b[1;34m(loop, func, callback_timeout, *args, **kwargs)\u001b[0m\n\u001b[0;32m    390\u001b[0m timeout \u001b[38;5;241m=\u001b[39m _parse_timedelta(callback_timeout, \u001b[38;5;124m\"\u001b[39m\u001b[38;5;124ms\u001b[39m\u001b[38;5;124m\"\u001b[39m)\n\u001b[0;32m    391\u001b[0m \u001b[38;5;28;01mif\u001b[39;00m loop\u001b[38;5;241m.\u001b[39masyncio_loop\u001b[38;5;241m.\u001b[39mis_closed():  \u001b[38;5;66;03m# type: ignore[attr-defined]\u001b[39;00m\n\u001b[1;32m--> 392\u001b[0m     \u001b[38;5;28;01mraise\u001b[39;00m \u001b[38;5;167;01mRuntimeError\u001b[39;00m(\u001b[38;5;124m\"\u001b[39m\u001b[38;5;124mIOLoop is closed\u001b[39m\u001b[38;5;124m\"\u001b[39m)\n\u001b[0;32m    394\u001b[0m e \u001b[38;5;241m=\u001b[39m threading\u001b[38;5;241m.\u001b[39mEvent()\n\u001b[0;32m    395\u001b[0m main_tid \u001b[38;5;241m=\u001b[39m threading\u001b[38;5;241m.\u001b[39mget_ident()\n",
      "\u001b[1;31mRuntimeError\u001b[0m: IOLoop is closed"
     ]
    }
   ],
   "source": [
    "print(client.scheduler_info())"
   ]
  },
  {
   "cell_type": "code",
   "execution_count": 13,
   "id": "af1cfab668d7e549",
   "metadata": {
    "ExecuteTime": {
     "end_time": "2024-10-26T23:42:06.782507Z",
     "start_time": "2024-10-26T23:41:59.677748Z"
    }
   },
   "outputs": [
    {
     "name": "stderr",
     "output_type": "stream",
     "text": [
      "C:\\Users\\M\\miniconda3\\Lib\\site-packages\\distributed\\node.py:187: UserWarning: Port 8787 is already in use.\n",
      "Perhaps you already have a cluster running?\n",
      "Hosting the HTTP server on port 53515 instead\n",
      "  warnings.warn(\n",
      "C:\\Users\\M\\miniconda3\\Lib\\contextlib.py:144: UserWarning: Creating scratch directories is taking a surprisingly long time. (1.32s) This is often due to running workers on a network file system. Consider specifying a local-directory to point workers to write scratch data to a local disk.\n",
      "  next(self.gen)\n",
      "2024-10-27 01:42:06,319 - distributed.protocol.core - CRITICAL - Failed to deserialize\n",
      "Traceback (most recent call last):\n",
      "  File \"C:\\Users\\M\\miniconda3\\Lib\\site-packages\\distributed\\protocol\\core.py\", line 175, in loads\n",
      "    return msgpack.loads(\n",
      "           ^^^^^^^^^^^^^^\n",
      "  File \"C:\\Users\\M\\miniconda3\\Lib\\site-packages\\msgpack\\fallback.py\", line 136, in unpackb\n",
      "    raise ExtraData(ret, unpacker._get_extradata())\n",
      "msgpack.exceptions.ExtraData: unpack(b) received extra data.\n",
      "2024-10-27 01:42:06,362 - distributed.core - ERROR - Exception while handling op register-client\n",
      "Traceback (most recent call last):\n",
      "  File \"C:\\Users\\M\\miniconda3\\Lib\\site-packages\\distributed\\core.py\", line 831, in _handle_comm\n",
      "    result = await result\n",
      "             ^^^^^^^^^^^^\n",
      "  File \"C:\\Users\\M\\miniconda3\\Lib\\site-packages\\distributed\\scheduler.py\", line 5899, in add_client\n",
      "    await self.handle_stream(comm=comm, extra={\"client\": client})\n",
      "  File \"C:\\Users\\M\\miniconda3\\Lib\\site-packages\\distributed\\core.py\", line 886, in handle_stream\n",
      "    msgs = await comm.read()\n",
      "           ^^^^^^^^^^^^^^^^^\n",
      "  File \"C:\\Users\\M\\miniconda3\\Lib\\site-packages\\distributed\\comm\\tcp.py\", line 247, in read\n",
      "    msg = await from_frames(\n",
      "          ^^^^^^^^^^^^^^^^^^\n",
      "  File \"C:\\Users\\M\\miniconda3\\Lib\\site-packages\\distributed\\comm\\utils.py\", line 78, in from_frames\n",
      "    res = _from_frames()\n",
      "          ^^^^^^^^^^^^^^\n",
      "  File \"C:\\Users\\M\\miniconda3\\Lib\\site-packages\\distributed\\comm\\utils.py\", line 61, in _from_frames\n",
      "    return protocol.loads(\n",
      "           ^^^^^^^^^^^^^^^\n",
      "  File \"C:\\Users\\M\\miniconda3\\Lib\\site-packages\\distributed\\protocol\\core.py\", line 175, in loads\n",
      "    return msgpack.loads(\n",
      "           ^^^^^^^^^^^^^^\n",
      "  File \"C:\\Users\\M\\miniconda3\\Lib\\site-packages\\msgpack\\fallback.py\", line 136, in unpackb\n",
      "    raise ExtraData(ret, unpacker._get_extradata())\n",
      "msgpack.exceptions.ExtraData: unpack(b) received extra data.\n",
      "Task exception was never retrieved\n",
      "future: <Task finished name='Task-1348373' coro=<Server._handle_comm() done, defined at C:\\Users\\M\\miniconda3\\Lib\\site-packages\\distributed\\core.py:737> exception=ExtraData(({'op': 'update-graph', 'graph_header': {'serializer': 'pickle', 'writeable': (True, True, True, True, True, True, True, True, True, True, True, True, True, True, True, True, True)}, 'graph_frames': (b'\\x80\\x05\\x95\\xbe\\x15\\x00\\x00\\x00\\x00\\x00\\x00\\x8c\\x1edistributed.protocol.serialize\\x94\\x8c\\x08ToPickle\\x94\\x93\\x94)\\x81\\x94}\\x94\\x8c\\x04data\\x94\\x8c\\x13dask.highlevelgraph\\x94\\x8c\\x0eHighLevelGraph\\x94\\x93\\x94)\\x81\\x94}\\x94(\\x8c\\x0cdependencies\\x94}\\x94\\x8a\\x06\\x00\\x10\\xe1_;\\x02\\x8f\\x94s\\x8c\\x10key_dependencies\\x94}\\x94\\x8c\\x06layers\\x94}\\x94\\x8a\\x06\\x00\\x10\\xe1_;\\x02h\\x06\\x8c\\x11MaterializedLayer\\x94\\x93\\x94)\\x81\\x94}\\x94(\\x8c\\x0bannotations\\x94N\\x8c\\x16collection_annotations\\x94N\\x8c\\x07mapping\\x94}\\x94(\\x8c8split-repartitiontomore-8bcc61e01f96eb2fd0725dfaf72e7402\\x94K\\x00\\x86\\x94\\x8c\\x13dask.dataframe.core\\x94\\x8c\\x0csplit_evenly\\x94\\x93\\x94\\x8c3read_parquet-fused-2caf840a3ee6633f8f3a8e3de389cddf\\x94K\\x00\\x86\\x94K\\x14\\x87\\x94\\x8c2repartitiontomore-8bcc61e01f96eb2fd0725dfaf72e7402\\x94K\\x00\\x86\\x94\\x8c\\t_operator\\x94\\x8c\\x07getitem\\x94\\x93\\x94h\\x1aK\\x00\\x86\\x94K\\x00\\x87\\x94h\"K\\x01\\x86\\x94h&h\\x1aK\\x00\\x86\\x94K\\x01\\x87\\x94h\"K\\x02\\x86\\x94h&h\\x1aK\\x00\\x86\\x94K\\x02\\x87\\x94h\"K\\x03\\x86\\x94h&h\\x1aK\\x00\\x86\\x94K\\x03\\x87\\x94h\"K\\x04\\x86\\x94h&h\\x1aK\\x00\\x86\\x94K\\x04\\x87\\x94h\"K\\x05\\x86\\x94h&h\\x1aK\\x00\\x86\\x94K\\x05\\x87\\x94h\"K\\x06\\x86\\x94h&h\\x1aK\\x00\\x86\\x94K\\x06\\x87\\x94h\"K\\x07\\x86\\x94h&h\\x1aK\\x00\\x86\\x94K\\x07\\x87\\x94h\"K\\x08\\x86\\x94h&h\\x1aK\\x00\\x86\\x94K\\x08\\x87\\x94h\"K\\t\\x86\\x94h&h\\x1aK\\x00\\x86\\x94K\\t\\x87\\x94h\"K\\n\\x86\\x94h&h\\x1aK\\x00\\x86\\x94K\\n\\x87\\x94h\"K\\x0b\\x86\\x94h&h\\x1aK\\x00\\x86\\x94K\\x0b\\x87\\x94h\"K\\x0c\\x86\\x94h&h\\x1aK\\x00\\x86\\x94K\\x0c\\x87\\x94h\"K\\r\\x86\\x94h&h\\x1aK\\x00\\x86\\x94K\\r\\x87\\x94h\"K\\x0e\\x86\\x94h&h\\x1aK\\x00\\x86\\x94K\\x0e\\x87\\x94h\"K\\x0f\\x86\\x94h&h\\x1aK\\x00\\x86\\x94K\\x0f\\x87\\x94h\"K\\x10\\x86\\x94h&h\\x1aK\\x00\\x86\\x94K\\x10\\x87\\x94h\"K\\x11\\x86\\x94h&h\\x1aK\\x00\\x86\\x94K\\x11\\x87\\x94h\"K\\x12\\x86\\x94h&h\\x1aK\\x00\\x86\\x94K\\x12\\x87\\x94h\"K\\x13\\x86\\x94h&h\\x1aK\\x00\\x86\\x94K\\x13\\x87\\x94h\\x1fK\\x00\\x86\\x94\\x8c\\x17dask.dataframe.dispatch\\x94\\x8c\\x06concat\\x94\\x93\\x94]\\x94(\\x8c\\x1edask.dataframe.io.parquet.core\\x94\\x8c\\x16ParquetFunctionWrapper\\x94\\x93\\x94)\\x81\\x94}\\x94(\\x8c\\x06engine\\x94\\x8c\\x1fdask.dataframe.io.parquet.arrow\\x94\\x8c\\x12ArrowDatasetEngine\\x94\\x93\\x94\\x8c\\x02fs\\x94\\x8c\\x0bfsspec.spec\\x94\\x8c\\rmake_instance\\x94\\x93\\x94\\x8c\\x1cfsspec.implementations.local\\x94\\x8c\\x0fLocalFileSystem\\x94\\x93\\x94)}\\x94\\x87\\x94R\\x94\\x8c\\x04meta\\x94\\x8c\\x11pandas.core.frame\\x94\\x8c\\tDataFrame\\x94\\x93\\x94)\\x81\\x94}\\x94(\\x8c\\x04_mgr\\x94\\x8c\\x1epandas.core.internals.managers\\x94\\x8c\\x0cBlockManager\\x94\\x93\\x94(\\x8c\\x16pandas._libs.internals\\x94\\x8c\\x0f_unpickle_block\\x94\\x93\\x94\\x8c\\x12numpy.core.numeric\\x94\\x8c\\x0b_frombuffer\\x94\\x93\\x94(\\x97\\x8c\\x05numpy\\x94\\x8c\\x05dtype\\x94\\x93\\x94\\x8c\\x02i8\\x94\\x89\\x88\\x87\\x94R\\x94(K\\x03\\x8c\\x01<\\x94NNNJ\\xff\\xff\\xff\\xffJ\\xff\\xff\\xff\\xffK\\x00t\\x94bK\\tK\\x00\\x86\\x94\\x8c\\x01C\\x94t\\x94R\\x94h\\x89(\\x97h\\x8fK\\t\\x85\\x94h\\x93t\\x94R\\x94K\\x02\\x87\\x94R\\x94h\\x86\\x8c\\x1fpandas.core.arrays.string_arrow\\x94\\x8c\\x10ArrowStringArray\\x94\\x93\\x94)\\x81\\x94}\\x94(\\x8c\\t_pa_array\\x94\\x8c\\x0bpyarrow.lib\\x94\\x8c\\x0e_restore_array\\x94\\x93\\x94(h\\xa1\\x8c\\x0etype_for_alias\\x94\\x93\\x94\\x8c\\x0clarge_string\\x94\\x85\\x94R\\x94K\\x00K\\x00K\\x00]\\x94(Nh\\xa1\\x8c\\tpy_buffer\\x94\\x93\\x94\\x97\\x85\\x94R\\x94h\\xab\\x97\\x85\\x94R\\x94e]\\x94Nt\\x94\\x85\\x94R\\x94\\x8c\\x06_dtype\\x94\\x8c\\x1apandas.core.arrays.string_\\x94\\x8c\\x0bStringDtype\\x94\\x93\\x94)\\x81\\x94}\\x94\\x8c\\x07storage\\x94\\x8c\\x07pyarrow\\x94sbub\\x8c\\x08builtins\\x94\\x8c\\x05slice\\x94\\x93\\x94K\\x02K\\x03K\\x01\\x87\\x94R\\x94K\\x02\\x87\\x94R\\x94h\\x86h\\x9d)\\x81\\x94}\\x94(h\\xa0h\\xa3(h\\xa5\\x8c\\x0clarge_string\\x94\\x85\\x94R\\x94K\\x00K\\x00K\\x00]\\x94(Nh\\xab\\x97\\x85\\x94R\\x94h\\xab\\x97\\x85\\x94R\\x94e]\\x94Nt\\x94\\x85\\x94R\\x94h\\xb4h\\xb7)\\x81\\x94}\\x94h\\xbah\\xbbsbubh\\xbeK\\x04K\\x05K\\x01\\x87\\x94R\\x94K\\x02\\x87\\x94R\\x94h\\x86h\\x9d)\\x81\\x94}\\x94(h\\xa0h\\xa3(h\\xa5\\x8c\\x0clarge_string\\x94\\x85\\x94R\\x94K\\x00K\\x00K\\x00]\\x94(Nh\\xab\\x97\\x85\\x94R\\x94h\\xab\\x97\\x85\\x94R\\x94e]\\x94Nt\\x94\\x85\\x94R\\x94h\\xb4h\\xb7)\\x81\\x94}\\x94h\\xbah\\xbbsbubh\\xbeK\\x06K\\x07K\\x01\\x87\\x94R\\x94K\\x02\\x87\\x94R\\x94h\\x86h\\x9d)\\x81\\x94}\\x94(h\\xa0h\\xa3(h\\xa5\\x8c\\x0clarge_string\\x94\\x85\\x94R\\x94K\\x00K\\x00K\\x00]\\x94(Nh\\xab\\x97\\x85\\x94R\\x94h\\xab\\x97\\x85\\x94R\\x94e]\\x94Nt\\x94\\x85\\x94R\\x94h\\xb4h\\xb7)\\x81\\x94}\\x94h\\xbah\\xbbsbubh\\xbeK\\tK\\nK\\x01\\x87\\x94R\\x94K\\x02\\x87\\x94R\\x94h\\x86h\\x9d)\\x81\\x94}\\x94(h\\xa0h\\xa3(h\\xa5\\x8c\\x0clarge_string\\x94\\x85\\x94R\\x94K\\x00K\\x00K\\x00]\\x94(Nh\\xab\\x97\\x85\\x94R\\x94h\\xab\\x97\\x85\\x94R\\x94e]\\x94Nt\\x94\\x85\\x94R\\x94h\\xb4h\\xb7)\\x81\\x94}\\x94h\\xbah\\xbbsbubh\\xbeK\\nK\\x0bK\\x01\\x87\\x94R\\x94K\\x02\\x87\\x94R\\x94h\\x86h\\x89(\\x97h\\x8c\\x8c\\x02b1\\x94\\x89\\x88\\x87\\x94R\\x94(K\\x03\\x8c\\x01|\\x94NNNJ\\xff\\xff\\xff\\xffJ\\xff\\xff\\xff\\xffK\\x00t\\x94bK\\x01K\\x00\\x86\\x94h\\x93t\\x94R\\x94h\\xbeK\\x0eK\\x0fK\\x01\\x87\\x94R\\x94K\\x02\\x87\\x94R\\x94h\\x86h\\x9d)\\x81\\x94}\\x94(h\\xa0h\\xa3(h\\xa5\\x8c\\x0clarge_string\\x94\\x85\\x94R\\x94K\\x00K\\x00K\\x00]\\x94(Nh\\xab\\x97\\x85\\x94R\\x94h\\xab\\x97\\x85\\x94R\\x94e]\\x94Nt\\x94\\x85\\x94R\\x94h\\xb4h\\xb7)\\x81\\x94}\\x94h\\xbah\\xbbsbubh\\xbeK\\x0fK\\x10K\\x01\\x87\\x94R\\x94K\\x02\\x87\\x94R\\x94h\\x86h\\x9d)\\x81\\x94}\\x94(h\\xa0h\\xa3(h\\xa5\\x8c\\x0clarge_string\\x94\\x85\\x94R\\x94K\\x00K\\x00K\\x00]\\x94(Nh\\xab\\x97\\x85\\x94R\\x94h\\xab\\x97\\x85\\x94R\\x94e]\\x94Nt\\x94\\x85\\x94R\\x94h\\xb4h\\xb7)\\x81\\x94}\\x94h\\xbah\\xbbsbubh\\xbeK\\x10K\\x11K\\x01\\x87\\x94R\\x94K\\x02\\x87\\x94R\\x94t\\x94]\\x94(\\x8c\\x18pandas.core.indexes.base\\x94\\x8c\\n_new_Index\\x94\\x93\\x94jI\\x01\\x00\\x00\\x8c\\x05Index\\x94\\x93\\x94}\\x94(h\\x05\\x8c\\x15numpy.core.multiarray\\x94\\x8c\\x0c_reconstruct\\x94\\x93\\x94h\\x8a\\x8c\\x07ndarray\\x94\\x93\\x94K\\x00\\x85\\x94C\\x01b\\x94\\x87\\x94R\\x94(K\\x01K\\x11\\x85\\x94h\\x8c\\x8c\\x02O8\\x94\\x89\\x88\\x87\\x94R\\x94(K\\x03j\\x16\\x01\\x00\\x00NNNJ\\xff\\xff\\xff\\xffJ\\xff\\xff\\xff\\xffK?t\\x94b\\x89]\\x94(\\x8c\\x03sid\\x94\\x8c\\x0bsid_profile\\x94\\x8c\\x07post_id\\x94\\x8c\\nprofile_id\\x94\\x8c\\x04date\\x94\\x8c\\tpost_type\\x94\\x8c\\x0bdescription\\x94\\x8c\\x05likes\\x94\\x8c\\x08comments\\x94\\x8c\\x08username\\x94\\x8c\\x03bio\\x94\\x8c\\tfollowing\\x94\\x8c\\tfollowers\\x94\\x8c\\tnum_posts\\x94\\x8c\\x13is_business_account\\x94\\x8c\\x04lang\\x94\\x8c\\x08category\\x94et\\x94b\\x8c\\x04name\\x94Nu\\x86\\x94R\\x94jK\\x01\\x00\\x00\\x8c\\x19pandas.core.indexes.range\\x94\\x8c\\nRangeIndex\\x94\\x93\\x94}\\x94(jp\\x01\\x00\\x00N\\x8c\\x05start\\x94K\\x00\\x8c\\x04stop\\x94K\\x00\\x8c\\x04step\\x94K\\x01u\\x86\\x94R\\x94e\\x86\\x94R\\x94\\x8c\\x04_typ\\x94\\x8c\\tdataframe\\x94\\x8c\\t_metadata\\x94]\\x94\\x8c\\x05attrs\\x94}\\x94\\x8c\\x06_flags\\x94}\\x94\\x8c\\x17allows_duplicate_labels\\x94\\x88sub\\x8c\\x08_columns\\x94]\\x94(\\x8c\\x08username\\x94\\x8c\\x05likes\\x94\\x8c\\x04date\\x94e\\x8c\\x05index\\x94N\\x8c\\rdtype_backend\\x94N\\x8c\\rcommon_kwargs\\x94}\\x94(\\x8c\\npartitions\\x94]\\x94\\x8c\\ncategories\\x94N\\x8c\\x07filters\\x94N\\x8c\\x06schema\\x94h\\xa1j\\x94\\x01\\x00\\x00\\x93\\x94]\\x94(h\\xa1\\x8c\\x05field\\x94\\x93\\x94(\\x8c\\x03sid\\x94h\\xa5\\x8c\\x05int64\\x94\\x85\\x94R\\x94\\x88Nt\\x94R\\x94j\\x98\\x01\\x00\\x00(\\x8c\\x0bsid_profile\\x94h\\xa5\\x8c\\x05int64\\x94\\x85\\x94R\\x94\\x88Nt\\x94R\\x94j\\x98\\x01\\x00\\x00(\\x8c\\x07post_id\\x94h\\xa5\\x8c\\x06string\\x94\\x85\\x94R\\x94\\x88Nt\\x94R\\x94j\\x98\\x01\\x00\\x00(\\x8c\\nprofile_id\\x94h\\xa5\\x8c\\x05int64\\x94\\x85\\x94R\\x94\\x88Nt\\x94R\\x94j\\x98\\x01\\x00\\x00(\\x8c\\x04date\\x94h\\xa5\\x8c\\x06string\\x94\\x85\\x94R\\x94\\x88Nt\\x94R\\x94j\\x98\\x01\\x00\\x00(\\x8c\\tpost_type\\x94h\\xa5\\x8c\\x05int64\\x94\\x85\\x94R\\x94\\x88Nt\\x94R\\x94j\\x98\\x01\\x00\\x00(\\x8c\\x0bdescription\\x94h\\xa5\\x8c\\x06string\\x94\\x85\\x94R\\x94\\x88Nt\\x94R\\x94j\\x98\\x01\\x00\\x00(\\x8c\\x05likes\\x94h\\xa5\\x8c\\x05int64\\x94\\x85\\x94R\\x94\\x88Nt\\x94R\\x94j\\x98\\x01\\x00\\x00(\\x8c\\x08comments\\x94h\\xa5\\x8c\\x05int64\\x94\\x85\\x94R\\x94\\x88Nt\\x94R\\x94j\\x98\\x01\\x00\\x00(\\x8c\\x08username\\x94h\\xa5\\x8c\\x06string\\x94\\x85\\x94R\\x94\\x88Nt\\x94R\\x94j\\x98\\x01\\x00\\x00(\\x8c\\x03bio\\x94h\\xa5\\x8c\\x06string\\x94\\x85\\x94R\\x94\\x88Nt\\x94R\\x94j\\x98\\x01\\x00\\x00(\\x8c\\tfollowing\\x94h\\xa5\\x8c\\x05int64\\x94\\x85\\x94R\\x94\\x88Nt\\x94R\\x94j\\x98\\x01\\x00\\x00(\\x8c\\tfollowers\\x94h\\xa5\\x8c\\x05int64\\x94\\x85\\x94R\\x94\\x88Nt\\x94R\\x94j\\x98\\x01\\x00\\x00(\\x8c\\tnum_posts\\x94h\\xa5\\x8c\\x05int64\\x94\\x85\\x94R\\x94\\x88Nt\\x94R\\x94j\\x98\\x01\\x00\\x00(\\x8c\\x13is_business_account\\x94h\\xa5\\x8c\\x04bool\\x94\\x85\\x94R\\x94\\x88Nt\\x94R\\x94j\\x98\\x01\\x00\\x00(\\x8c\\x04lang\\x94h\\xa5\\x8c\\x06string\\x94\\x85\\x94R\\x94\\x88Nt\\x94R\\x94j\\x98\\x01\\x00\\x00(\\x8c\\x08category\\x94h\\xa5\\x8c\\x06string\\x94\\x85\\x94R\\x94\\x88Nt\\x94R\\x94e}\\x94C\\x0bhuggingface\\x94Bq\\x03\\x00\\x00{\"info\": {\"features\": {\"sid\": {\"dtype\": \"int64\", \"_type\": \"Value\"}, \"sid_profile\": {\"dtype\": \"int64\", \"_type\": \"Value\"}, \"post_id\": {\"dtype\": \"string\", \"_type\": \"Value\"}, \"profile_id\": {\"dtype\": \"int64\", \"_type\": \"Value\"}, \"date\": {\"dtype\": \"string\", \"_type\": \"Value\"}, \"post_type\": {\"dtype\": \"int64\", \"_type\": \"Value\"}, \"description\": {\"dtype\": \"string\", \"_type\": \"Value\"}, \"likes\": {\"dtype\": \"int64\", \"_type\": \"Value\"}, \"comments\": {\"dtype\": \"int64\", \"_type\": \"Value\"}, \"username\": {\"dtype\": \"string\", \"_type\": \"Value\"}, \"bio\": {\"dtype\": \"string\", \"_type\": \"Value\"}, \"following\": {\"dtype\": \"int64\", \"_type\": \"Value\"}, \"followers\": {\"dtype\": \"int64\", \"_type\": \"Value\"}, \"num_posts\": {\"dtype\": \"int64\", \"_type\": \"Value\"}, \"is_business_account\": {\"dtype\": \"bool\", \"_type\": \"Value\"}, \"lang\": {\"dtype\": \"string\", \"_type\": \"Value\"}, \"category\": {\"dtype\": \"string\", \"_type\": \"Value\"}}}}\\x94s\\x86\\x94R\\x94\\x8c\\x07dataset\\x94}\\x94(\\x8c\\x0cpartitioning\\x94\\x8c\\x04hive\\x94\\x8c\\x06format\\x94\\x8c\\x18pyarrow._dataset_parquet\\x94\\x8c\\x11ParquetFileFormat\\x94\\x93\\x94j\\t\\x02\\x00\\x00\\x8c!__pyx_unpickle_ParquetReadOptions\\x94\\x93\\x94j\\t\\x02\\x00\\x00\\x8c\\x12ParquetReadOptions\\x94\\x93\\x94Jx\\x11\\xc5\\x05N\\x87\\x94R\\x94K\\x03\\x8f\\x94\\x86\\x94bj\\t\\x02\\x00\\x00\\x8c\\'ParquetFragmentScanOptions._reconstruct\\x94\\x93\\x94}\\x94(\\x8c\\x13use_buffered_stream\\x94\\x89\\x8c\\x0bbuffer_size\\x94M\\x00 \\x8c\\npre_buffer\\x94\\x88\\x8c\\rcache_options\\x94h\\xa1\\x8c\\x19CacheOptions._reconstruct\\x94\\x93\\x94}\\x94(\\x8c\\x0fhole_size_limit\\x94M\\x00 \\x8c\\x10range_size_limit\\x94J\\x00\\x00\\x00\\x02\\x8c\\x04lazy\\x94\\x88\\x8c\\x0eprefetch_limit\\x94K\\x00u\\x85\\x94R\\x94\\x8c\\x18thrift_string_size_limit\\x94J\\x00\\xe1\\xf5\\x05\\x8c\\x1bthrift_container_size_limit\\x94J@B\\x0f\\x00\\x8c\\x1apage_checksum_verification\\x94\\x89u\\x85\\x94R\\x94\\x86\\x94R\\x94u\\x8c\\x0econvert_string\\x94\\x88\\x8c\\x04read\\x94}\\x94\\x8c\\x11open_file_options\\x94}\\x94s\\x8c\\x0bnpartitions\\x94K\\nj\\x8d\\x01\\x00\\x00Nuub}\\x94\\x8c\\x05piece\\x94\\x8c3C:/Users/M/PycharmProjects/zajecia_1/M/0000.parquet\\x94NN\\x87\\x94s\\x86\\x94hi)\\x81\\x94}\\x94(hlhohphyhzh~j\\x87\\x01\\x00\\x00j\\x88\\x01\\x00\\x00j\\x8c\\x01\\x00\\x00Nj\\x8d\\x01\\x00\\x00Nj\\x8e\\x01\\x00\\x00}\\x94(j\\x90\\x01\\x00\\x00j\\x91\\x01\\x00\\x00j\\x92\\x01\\x00\\x00Nj\\x93\\x01\\x00\\x00Nj\\x94\\x01\\x00\\x00j\\x03\\x02\\x00\\x00j\\x04\\x02\\x00\\x00j\\x05\\x02\\x00\\x00j+\\x02\\x00\\x00\\x88j,\\x02\\x00\\x00j-\\x02\\x00\\x00j0\\x02\\x00\\x00K\\nj\\x8d\\x01\\x00\\x00Nuub}\\x94j2\\x02\\x00\\x00\\x8c3C:/Users/M/PycharmProjects/zajecia_1/M/0001.parquet\\x94NN\\x87\\x94s\\x86\\x94e\\x86\\x94uubsubsb.', b'\\xc4H\\x00\\x00\\x00\\x00\\x00\\x00\\x00\\x00\\x01\\x00\\x00\\x00\\x00\\x00\\x00\\x00\\x03\\x00\\x00\\x00\\x00\\x00\\x00\\x00\\x05\\x00\\x00\\x00\\x00\\x00\\x00\\x00\\x07\\x00\\x00\\x00\\x00\\x00\\x00\\x00\\x08\\x00\\x00\\x00\\x00\\x00\\x00\\x00\\x0b\\x00\\x00\\x00\\x00\\x00\\x00\\x00\\x0c\\x00\\x00\\x00\\x00\\x00\\x00\\x00\\r\\x00\\x00\\x00\\x00\\x00', 0, 0, b'\\x00\\x00\\x00\\x00\\x00\\x00\\x00\\x00', b'', b'\\x00\\x00\\x00\\x00\\x00\\x00\\x00\\x00', b'', b'\\x00\\x00\\x00\\x00\\x00\\x00\\x00\\x00', b'', b'\\x00\\x00\\x00\\x00\\x00\\x00\\x00\\x00', b'', b'\\x00\\x00\\x00\\x00\\x00\\x00\\x00\\x00', b'', b'\\xc4', 8, 0, 0), 0: 0, b'': 'keys', (('repartitiontomore-8bcc61e01f96eb2fd0725dfaf72e7402', 1), ('repartitiontomore-8bcc61e01f96eb2fd0725dfaf72e7402', 4), ('repartitiontomore-8bcc61e01f96eb2fd0725dfaf72e7402', 10), ('repartitiontomore-8bcc61e01f96eb2fd0725dfaf72e7402', 7), ('repartitiontomore-8bcc61e01f96eb2fd0725dfaf72e7402', 13), ('repartitiontomore-8bcc61e01f96eb2fd0725dfaf72e7402', 19), ('repartitiontomore-8bcc61e01f96eb2fd0725dfaf72e7402', 16), ('repartitiontomore-8bcc61e01f96eb2fd0725dfaf72e7402', 3), ('repartitiontomore-8bcc61e01f96eb2fd0725dfaf72e7402', 0), ('repartitiontomore-8bcc61e01f96eb2fd0725dfaf72e7402', 6), ('repartitiontomore-8bcc61e01f96eb2fd0725dfaf72e7402', 12), ('repartitiontomore-8bcc61e01f96eb2fd0725dfaf72e7402', 9), ('repartitiontomore-8bcc61e01f96eb2fd0725dfaf72e7402', 15), ('repartitiontomore-8bcc61e01f96eb2fd0725dfaf72e7402', 18), ('repartitiontomore-8bcc61e01f96eb2fd0725dfaf72e7402', 5), ('repartitiontomore-8bcc61e01f96eb2fd0725dfaf72e7402', 2), ('repartitiontomore-8bcc61e01f96eb2fd0725dfaf72e7402', 8), ('repartitiontomore-8bcc61e01f96eb2fd0725dfaf72e7402', 11), ('repartitiontomore-8bcc61e01f96eb2fd0725dfaf72e7402', 17), ('repartitiontomore-8bcc61e01f96eb2fd0725dfaf72e7402', 14)): 'internal_priority', None: 'fifo_timeout'},), bytearray(b'\\xa360s\\xa6actors\\xc0\\xa4code\\x81\\xab__Pickled__\\x01\\xabannotations\\x81\\xab__Pickled__\\x02\\xadspan_metadata\\x81\\xab__Pickled__\\x03'))>\n",
      "Traceback (most recent call last):\n",
      "  File \"C:\\Users\\M\\miniconda3\\Lib\\site-packages\\distributed\\core.py\", line 831, in _handle_comm\n",
      "    result = await result\n",
      "             ^^^^^^^^^^^^\n",
      "  File \"C:\\Users\\M\\miniconda3\\Lib\\site-packages\\distributed\\scheduler.py\", line 5899, in add_client\n",
      "    await self.handle_stream(comm=comm, extra={\"client\": client})\n",
      "  File \"C:\\Users\\M\\miniconda3\\Lib\\site-packages\\distributed\\core.py\", line 886, in handle_stream\n",
      "    msgs = await comm.read()\n",
      "           ^^^^^^^^^^^^^^^^^\n",
      "  File \"C:\\Users\\M\\miniconda3\\Lib\\site-packages\\distributed\\comm\\tcp.py\", line 247, in read\n",
      "    msg = await from_frames(\n",
      "          ^^^^^^^^^^^^^^^^^^\n",
      "  File \"C:\\Users\\M\\miniconda3\\Lib\\site-packages\\distributed\\comm\\utils.py\", line 78, in from_frames\n",
      "    res = _from_frames()\n",
      "          ^^^^^^^^^^^^^^\n",
      "  File \"C:\\Users\\M\\miniconda3\\Lib\\site-packages\\distributed\\comm\\utils.py\", line 61, in _from_frames\n",
      "    return protocol.loads(\n",
      "           ^^^^^^^^^^^^^^^\n",
      "  File \"C:\\Users\\M\\miniconda3\\Lib\\site-packages\\distributed\\protocol\\core.py\", line 175, in loads\n",
      "    return msgpack.loads(\n",
      "           ^^^^^^^^^^^^^^\n",
      "  File \"C:\\Users\\M\\miniconda3\\Lib\\site-packages\\msgpack\\fallback.py\", line 136, in unpackb\n",
      "    raise ExtraData(ret, unpacker._get_extradata())\n",
      "msgpack.exceptions.ExtraData: unpack(b) received extra data.\n",
      "2024-10-27 01:42:06,520 - distributed.protocol.core - CRITICAL - Failed to deserialize\n",
      "Traceback (most recent call last):\n",
      "  File \"C:\\Users\\M\\miniconda3\\Lib\\site-packages\\distributed\\protocol\\core.py\", line 175, in loads\n",
      "    return msgpack.loads(\n",
      "           ^^^^^^^^^^^^^^\n",
      "  File \"C:\\Users\\M\\miniconda3\\Lib\\site-packages\\msgpack\\fallback.py\", line 128, in unpackb\n",
      "    ret = unpacker._unpack()\n",
      "          ^^^^^^^^^^^^^^^^^^\n",
      "  File \"C:\\Users\\M\\miniconda3\\Lib\\site-packages\\msgpack\\fallback.py\", line 565, in _unpack\n",
      "    ret.append(self._unpack(EX_CONSTRUCT))\n",
      "               ^^^^^^^^^^^^^^^^^^^^^^^^^^\n",
      "  File \"C:\\Users\\M\\miniconda3\\Lib\\site-packages\\msgpack\\fallback.py\", line 592, in _unpack\n",
      "    ret[key] = self._unpack(EX_CONSTRUCT)\n",
      "    ~~~^^^^^\n",
      "TypeError: unhashable type: 'dict'\n",
      "2024-10-27 01:42:06,525 - distributed.core - ERROR - Exception while handling op register-client\n",
      "Traceback (most recent call last):\n",
      "  File \"C:\\Users\\M\\miniconda3\\Lib\\site-packages\\distributed\\core.py\", line 831, in _handle_comm\n",
      "    result = await result\n",
      "             ^^^^^^^^^^^^\n",
      "  File \"C:\\Users\\M\\miniconda3\\Lib\\site-packages\\distributed\\scheduler.py\", line 5899, in add_client\n",
      "    await self.handle_stream(comm=comm, extra={\"client\": client})\n",
      "  File \"C:\\Users\\M\\miniconda3\\Lib\\site-packages\\distributed\\core.py\", line 886, in handle_stream\n",
      "    msgs = await comm.read()\n",
      "           ^^^^^^^^^^^^^^^^^\n",
      "  File \"C:\\Users\\M\\miniconda3\\Lib\\site-packages\\distributed\\comm\\tcp.py\", line 247, in read\n",
      "    msg = await from_frames(\n",
      "          ^^^^^^^^^^^^^^^^^^\n",
      "  File \"C:\\Users\\M\\miniconda3\\Lib\\site-packages\\distributed\\comm\\utils.py\", line 78, in from_frames\n",
      "    res = _from_frames()\n",
      "          ^^^^^^^^^^^^^^\n",
      "  File \"C:\\Users\\M\\miniconda3\\Lib\\site-packages\\distributed\\comm\\utils.py\", line 61, in _from_frames\n",
      "    return protocol.loads(\n",
      "           ^^^^^^^^^^^^^^^\n",
      "  File \"C:\\Users\\M\\miniconda3\\Lib\\site-packages\\distributed\\protocol\\core.py\", line 175, in loads\n",
      "    return msgpack.loads(\n",
      "           ^^^^^^^^^^^^^^\n",
      "  File \"C:\\Users\\M\\miniconda3\\Lib\\site-packages\\msgpack\\fallback.py\", line 128, in unpackb\n",
      "    ret = unpacker._unpack()\n",
      "          ^^^^^^^^^^^^^^^^^^\n",
      "  File \"C:\\Users\\M\\miniconda3\\Lib\\site-packages\\msgpack\\fallback.py\", line 565, in _unpack\n",
      "    ret.append(self._unpack(EX_CONSTRUCT))\n",
      "               ^^^^^^^^^^^^^^^^^^^^^^^^^^\n",
      "  File \"C:\\Users\\M\\miniconda3\\Lib\\site-packages\\msgpack\\fallback.py\", line 592, in _unpack\n",
      "    ret[key] = self._unpack(EX_CONSTRUCT)\n",
      "    ~~~^^^^^\n",
      "TypeError: unhashable type: 'dict'\n",
      "Task exception was never retrieved\n",
      "future: <Task finished name='Task-1348948' coro=<Server._handle_comm() done, defined at C:\\Users\\M\\miniconda3\\Lib\\site-packages\\distributed\\core.py:737> exception=TypeError(\"unhashable type: 'dict'\")>\n",
      "Traceback (most recent call last):\n",
      "  File \"C:\\Users\\M\\miniconda3\\Lib\\site-packages\\distributed\\core.py\", line 831, in _handle_comm\n",
      "    result = await result\n",
      "             ^^^^^^^^^^^^\n",
      "  File \"C:\\Users\\M\\miniconda3\\Lib\\site-packages\\distributed\\scheduler.py\", line 5899, in add_client\n",
      "    await self.handle_stream(comm=comm, extra={\"client\": client})\n",
      "  File \"C:\\Users\\M\\miniconda3\\Lib\\site-packages\\distributed\\core.py\", line 886, in handle_stream\n",
      "    msgs = await comm.read()\n",
      "           ^^^^^^^^^^^^^^^^^\n",
      "  File \"C:\\Users\\M\\miniconda3\\Lib\\site-packages\\distributed\\comm\\tcp.py\", line 247, in read\n",
      "    msg = await from_frames(\n",
      "          ^^^^^^^^^^^^^^^^^^\n",
      "  File \"C:\\Users\\M\\miniconda3\\Lib\\site-packages\\distributed\\comm\\utils.py\", line 78, in from_frames\n",
      "    res = _from_frames()\n",
      "          ^^^^^^^^^^^^^^\n",
      "  File \"C:\\Users\\M\\miniconda3\\Lib\\site-packages\\distributed\\comm\\utils.py\", line 61, in _from_frames\n",
      "    return protocol.loads(\n",
      "           ^^^^^^^^^^^^^^^\n",
      "  File \"C:\\Users\\M\\miniconda3\\Lib\\site-packages\\distributed\\protocol\\core.py\", line 175, in loads\n",
      "    return msgpack.loads(\n",
      "           ^^^^^^^^^^^^^^\n",
      "  File \"C:\\Users\\M\\miniconda3\\Lib\\site-packages\\msgpack\\fallback.py\", line 128, in unpackb\n",
      "    ret = unpacker._unpack()\n",
      "          ^^^^^^^^^^^^^^^^^^\n",
      "  File \"C:\\Users\\M\\miniconda3\\Lib\\site-packages\\msgpack\\fallback.py\", line 565, in _unpack\n",
      "    ret.append(self._unpack(EX_CONSTRUCT))\n",
      "               ^^^^^^^^^^^^^^^^^^^^^^^^^^\n",
      "  File \"C:\\Users\\M\\miniconda3\\Lib\\site-packages\\msgpack\\fallback.py\", line 592, in _unpack\n",
      "    ret[key] = self._unpack(EX_CONSTRUCT)\n",
      "    ~~~^^^^^\n",
      "TypeError: unhashable type: 'dict'\n"
     ]
    },
    {
     "ename": "FutureCancelledError",
     "evalue": "('repartitiontofewer-b8065787f05c2a4785b3b4cca224e054', 0) cancelled for reason: scheduler-connection-lost.\nClient lost the connection to the scheduler. Please check your connection and re-run your work.",
     "output_type": "error",
     "traceback": [
      "\u001b[1;31m---------------------------------------------------------------------------\u001b[0m",
      "\u001b[1;31mFutureCancelledError\u001b[0m                      Traceback (most recent call last)",
      "Cell \u001b[1;32mIn[13], line 31\u001b[0m\n\u001b[0;32m     29\u001b[0m start_time \u001b[38;5;241m=\u001b[39m time\u001b[38;5;241m.\u001b[39mtime()\n\u001b[0;32m     30\u001b[0m sample_df \u001b[38;5;241m=\u001b[39m persisted_df\u001b[38;5;241m.\u001b[39msample(frac\u001b[38;5;241m=\u001b[39m\u001b[38;5;241m0.1\u001b[39m)\u001b[38;5;241m.\u001b[39mpersist()  \u001b[38;5;66;03m# Przetwórz 10% danych dla szybszego testu\u001b[39;00m\n\u001b[1;32m---> 31\u001b[0m user_likes \u001b[38;5;241m=\u001b[39m sample_df\u001b[38;5;241m.\u001b[39mgroupby(\u001b[38;5;124m'\u001b[39m\u001b[38;5;124musername\u001b[39m\u001b[38;5;124m'\u001b[39m)[\u001b[38;5;124m'\u001b[39m\u001b[38;5;124mlikes\u001b[39m\u001b[38;5;124m'\u001b[39m]\u001b[38;5;241m.\u001b[39msum()\u001b[38;5;241m.\u001b[39mcompute()\n\u001b[0;32m     32\u001b[0m top_users \u001b[38;5;241m=\u001b[39m user_likes\u001b[38;5;241m.\u001b[39mnlargest(\u001b[38;5;241m10\u001b[39m)\n\u001b[0;32m     33\u001b[0m end_time \u001b[38;5;241m=\u001b[39m time\u001b[38;5;241m.\u001b[39mtime()\n",
      "File \u001b[1;32m~\\miniconda3\\Lib\\site-packages\\dask_expr\\_collection.py:477\u001b[0m, in \u001b[0;36mFrameBase.compute\u001b[1;34m(self, fuse, **kwargs)\u001b[0m\n\u001b[0;32m    475\u001b[0m     out \u001b[38;5;241m=\u001b[39m out\u001b[38;5;241m.\u001b[39mrepartition(npartitions\u001b[38;5;241m=\u001b[39m\u001b[38;5;241m1\u001b[39m)\n\u001b[0;32m    476\u001b[0m out \u001b[38;5;241m=\u001b[39m out\u001b[38;5;241m.\u001b[39moptimize(fuse\u001b[38;5;241m=\u001b[39mfuse)\n\u001b[1;32m--> 477\u001b[0m \u001b[38;5;28;01mreturn\u001b[39;00m DaskMethodsMixin\u001b[38;5;241m.\u001b[39mcompute(out, \u001b[38;5;241m*\u001b[39m\u001b[38;5;241m*\u001b[39mkwargs)\n",
      "File \u001b[1;32m~\\miniconda3\\Lib\\site-packages\\dask\\base.py:372\u001b[0m, in \u001b[0;36mDaskMethodsMixin.compute\u001b[1;34m(self, **kwargs)\u001b[0m\n\u001b[0;32m    348\u001b[0m \u001b[38;5;28;01mdef\u001b[39;00m \u001b[38;5;21mcompute\u001b[39m(\u001b[38;5;28mself\u001b[39m, \u001b[38;5;241m*\u001b[39m\u001b[38;5;241m*\u001b[39mkwargs):\n\u001b[0;32m    349\u001b[0m \u001b[38;5;250m    \u001b[39m\u001b[38;5;124;03m\"\"\"Compute this dask collection\u001b[39;00m\n\u001b[0;32m    350\u001b[0m \n\u001b[0;32m    351\u001b[0m \u001b[38;5;124;03m    This turns a lazy Dask collection into its in-memory equivalent.\u001b[39;00m\n\u001b[1;32m   (...)\u001b[0m\n\u001b[0;32m    370\u001b[0m \u001b[38;5;124;03m    dask.compute\u001b[39;00m\n\u001b[0;32m    371\u001b[0m \u001b[38;5;124;03m    \"\"\"\u001b[39;00m\n\u001b[1;32m--> 372\u001b[0m     (result,) \u001b[38;5;241m=\u001b[39m compute(\u001b[38;5;28mself\u001b[39m, traverse\u001b[38;5;241m=\u001b[39m\u001b[38;5;28;01mFalse\u001b[39;00m, \u001b[38;5;241m*\u001b[39m\u001b[38;5;241m*\u001b[39mkwargs)\n\u001b[0;32m    373\u001b[0m     \u001b[38;5;28;01mreturn\u001b[39;00m result\n",
      "File \u001b[1;32m~\\miniconda3\\Lib\\site-packages\\dask\\base.py:660\u001b[0m, in \u001b[0;36mcompute\u001b[1;34m(traverse, optimize_graph, scheduler, get, *args, **kwargs)\u001b[0m\n\u001b[0;32m    657\u001b[0m     postcomputes\u001b[38;5;241m.\u001b[39mappend(x\u001b[38;5;241m.\u001b[39m__dask_postcompute__())\n\u001b[0;32m    659\u001b[0m \u001b[38;5;28;01mwith\u001b[39;00m shorten_traceback():\n\u001b[1;32m--> 660\u001b[0m     results \u001b[38;5;241m=\u001b[39m schedule(dsk, keys, \u001b[38;5;241m*\u001b[39m\u001b[38;5;241m*\u001b[39mkwargs)\n\u001b[0;32m    662\u001b[0m \u001b[38;5;28;01mreturn\u001b[39;00m repack([f(r, \u001b[38;5;241m*\u001b[39ma) \u001b[38;5;28;01mfor\u001b[39;00m r, (f, a) \u001b[38;5;129;01min\u001b[39;00m \u001b[38;5;28mzip\u001b[39m(results, postcomputes)])\n",
      "File \u001b[1;32m~\\miniconda3\\Lib\\site-packages\\distributed\\client.py:2417\u001b[0m, in \u001b[0;36mClient._gather\u001b[1;34m(self, futures, errors, direct, local_worker)\u001b[0m\n\u001b[0;32m   2415\u001b[0m     exception \u001b[38;5;241m=\u001b[39m st\u001b[38;5;241m.\u001b[39mexception\n\u001b[0;32m   2416\u001b[0m     traceback \u001b[38;5;241m=\u001b[39m st\u001b[38;5;241m.\u001b[39mtraceback\n\u001b[1;32m-> 2417\u001b[0m     \u001b[38;5;28;01mraise\u001b[39;00m exception\u001b[38;5;241m.\u001b[39mwith_traceback(traceback)\n\u001b[0;32m   2418\u001b[0m \u001b[38;5;28;01mif\u001b[39;00m errors \u001b[38;5;241m==\u001b[39m \u001b[38;5;124m\"\u001b[39m\u001b[38;5;124mskip\u001b[39m\u001b[38;5;124m\"\u001b[39m:\n\u001b[0;32m   2419\u001b[0m     bad_keys\u001b[38;5;241m.\u001b[39madd(key)\n",
      "\u001b[1;31mFutureCancelledError\u001b[0m: ('repartitiontofewer-b8065787f05c2a4785b3b4cca224e054', 0) cancelled for reason: scheduler-connection-lost.\nClient lost the connection to the scheduler. Please check your connection and re-run your work."
     ]
    }
   ],
   "source": [
    "import dask.dataframe as dd\n",
    "from dask.distributed import Client, LocalCluster\n",
    "import time\n",
    "\n",
    "# Konfiguracja lokalnego klastra z ograniczonymi zasobami\n",
    "cluster = LocalCluster(\n",
    "    n_workers=4,  # Więcej workerów, aby lepiej rozłożyć obciążenie\n",
    "    threads_per_worker=1,  # Mniej wątków na workera\n",
    "    memory_limit='2GB'  # Ograniczenie pamięci na workera, aby zapobiec przeciążeniu\n",
    ")\n",
    "client = Client(cluster, timeout=120)  # Zwiększony timeout\n",
    "\n",
    "# Ścieżki do plików .parquet\n",
    "file_paths = [\n",
    "    \"0000.parquet\",\n",
    "    \"0001.parquet\"\n",
    "]\n",
    "\n",
    "# Wczytaj dane z wybranymi kolumnami i ograniczoną liczbą partycji\n",
    "df = dd.read_parquet(file_paths, columns=[\n",
    "                     'username', 'likes', 'date'], npartitions=10)\n",
    "\n",
    "# Podziel dane na więcej partycji, aby lepiej zarządzać zasobami\n",
    "df = df.repartition(npartitions=20)\n",
    "\n",
    "# Trwałe załadowanie danych do pamięci dla większej wydajności\n",
    "persisted_df = df.persist()\n",
    "\n",
    "# 1. Top 10 użytkowników z najwyższą liczbą like'ów (próbka danych dla testów)\n",
    "start_time = time.time()\n",
    "# Przetwórz 10% danych dla szybszego testu\n",
    "sample_df = persisted_df.sample(frac=0.1).persist()\n",
    "user_likes = sample_df.groupby('username')['likes'].sum().compute()\n",
    "top_users = user_likes.nlargest(10)\n",
    "end_time = time.time()\n",
    "print(f\"Top 10 użytkowników z najwyższą liczbą like'ów:\\n{top_users}\")\n",
    "print(f\"Czas wykonania operacji: {end_time - start_time} sekund\")\n",
    "\n",
    "# 2. Pobranie danych tylko za pierwsze półrocze 2019 roku\n",
    "start_time = time.time()\n",
    "persisted_df['date'] = dd.to_datetime(persisted_df['date'])\n",
    "filtered_data = persisted_df[\n",
    "    (persisted_df['date'] >=\n",
    "     '2019-01-01') & (persisted_df['date'] < '2019-07-01')\n",
    "].compute()\n",
    "end_time = time.time()\n",
    "print(f\"Liczba rekordów za pierwsze półrocze 2019 roku: {len(filtered_data)}\")\n",
    "print(f\"Czas wykonania operacji: {end_time - start_time} sekund\")\n",
    "\n",
    "# Monitorowanie obciążenia zasobów za pomocą dashboardu Dask\n",
    "print(f\"Link do dashboardu: {client.dashboard_link}\")\n",
    "\n",
    "# Zamknięcie klienta po zakończeniu operacji\n",
    "client.close()"
   ]
  }
 ],
 "metadata": {
  "kernelspec": {
   "display_name": "Python 3",
   "language": "python",
   "name": "python3"
  },
  "language_info": {
   "codemirror_mode": {
    "name": "ipython",
    "version": 3
   },
   "file_extension": ".py",
   "mimetype": "text/x-python",
   "name": "python",
   "nbconvert_exporter": "python",
   "pygments_lexer": "ipython3",
   "version": "3.13.0"
  }
 },
 "nbformat": 4,
 "nbformat_minor": 5
}
