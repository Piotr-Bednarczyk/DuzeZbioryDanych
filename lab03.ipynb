{
 "cells": [
  {
   "cell_type": "code",
   "execution_count": 5,
   "id": "initial_id",
   "metadata": {
    "ExecuteTime": {
     "end_time": "2024-10-27T18:23:02.886453Z",
     "start_time": "2024-10-27T18:23:02.839165Z"
    },
    "collapsed": true
   },
   "outputs": [
    {
     "name": "stdout",
     "output_type": "stream",
     "text": [
      "                 date   level client  \\\n",
      "0 2005-12-04 04:47:44   error          \n",
      "1 2005-12-04 04:51:08  notice          \n",
      "2 2005-12-04 04:51:09  notice          \n",
      "3 2005-12-04 04:51:09  notice          \n",
      "4 2005-12-04 04:51:14  notice          \n",
      "\n",
      "                                             message  \n",
      "0            mod_jk child workerEnv in error state 6  \n",
      "1  jk2_init() Found child 6725 in scoreboard slot 10  \n",
      "2   jk2_init() Found child 6726 in scoreboard slot 8  \n",
      "3   jk2_init() Found child 6728 in scoreboard slot 6  \n",
      "4  workerEnv.init() ok /etc/httpd/conf/workers2.p...  \n"
     ]
    }
   ],
   "source": [
    "import pandas as pd\n",
    "from datetime import datetime\n",
    "import dask as dd\n",
    "csv_file_path = 'dane_1.csv'\n",
    "df_log_csv = pd.read_csv(csv_file_path)\n",
    "\n",
    "lines_csv = df_log_csv.iloc[:, 0].tolist()\n",
    "\n",
    "\n",
    "def parse(inp: str):\n",
    "    record = {}\n",
    "    date_start = inp.find('[') + 1\n",
    "    date_end = inp.find(']')\n",
    "    date_s = slice(date_start, date_end)\n",
    "\n",
    "    level_start = inp.find('[', date_end) + 1\n",
    "    level_end = inp.find(']', level_start)\n",
    "    level_s = slice(level_start, level_end)\n",
    "\n",
    "    client_start = inp.find('[', level_end)\n",
    "    client_end = inp.find(']', client_start)\n",
    "\n",
    "    record[\"date\"] = inp[date_s]\n",
    "    record[\"level\"] = inp[level_s]\n",
    "    record[\"client\"] = \"\" if client_start == - \\\n",
    "        1 else inp[client_start + 8: client_end]\n",
    "    record[\"message\"] = inp[client_end +\n",
    "                            2:] if record[\"client\"] else inp[level_end + 2:]\n",
    "    return record\n",
    "\n",
    "\n",
    "def convert_date(rec):\n",
    "    rec[\"date\"] = datetime.strptime(rec[\"date\"], \"%a %b %d %H:%M:%S %Y\")\n",
    "    return rec\n",
    "\n",
    "\n",
    "output_csv = []\n",
    "for line in lines_csv:\n",
    "    record = parse(line)\n",
    "    record = convert_date(record)\n",
    "    output_csv.append(list(record.values()))\n",
    "\n",
    "df_parsed_logs_csv = pd.DataFrame(\n",
    "    output_csv, columns=[\"date\", \"level\", \"client\", \"message\"])\n",
    "\n",
    "print(df_parsed_logs_csv.head())"
   ]
  },
  {
   "cell_type": "code",
   "execution_count": 13,
   "id": "44cbf136c1fca764",
   "metadata": {
    "ExecuteTime": {
     "end_time": "2024-10-27T18:35:23.321015Z",
     "start_time": "2024-10-27T18:34:48.094336Z"
    }
   },
   "outputs": [
    {
     "name": "stdout",
     "output_type": "stream",
     "text": [
      "Zadanie 2 zakończone: Rekordy z wygasłymi kartami kredytowymi zapisane do plików JSON.\n"
     ]
    }
   ],
   "source": [
    "import dask.bag as db\n",
    "import json\n",
    "import os\n",
    "import dask as dd\n",
    "DATAPATH = '/M'\n",
    "os.makedirs(DATAPATH, exist_ok=True)\n",
    "\n",
    "b = dd.datasets.make_people(npartitions=100, records_per_partition=10000)\n",
    "\n",
    "\n",
    "def is_expired(record):\n",
    "    month, year = map(int, record[\"credit-card\"][\"expiration-date\"].split('/'))\n",
    "    return year < 2024 or (year == 2024 and month < 10)\n",
    "\n",
    "\n",
    "expired = b.filter(is_expired)\n",
    "\n",
    "expired.repartition(10).map(json.dumps).to_textfiles(\n",
    "    os.path.join(DATAPATH, 'expired_*.json'))\n",
    "\n",
    "print(\"Zadanie 2 zakończone: Rekordy z wygasłymi kartami kredytowymi zapisane do plików JSON.\")"
   ]
  },
  {
   "cell_type": "code",
   "execution_count": 14,
   "id": "279449472b1345c9",
   "metadata": {
    "ExecuteTime": {
     "end_time": "2024-10-27T18:36:54.726628Z",
     "start_time": "2024-10-27T18:35:33.882139Z"
    }
   },
   "outputs": [
    {
     "name": "stdout",
     "output_type": "stream",
     "text": [
      "Zadanie 3 zakończone: Dane osób dorosłych zapisane do pliku parquet.\n"
     ]
    }
   ],
   "source": [
    "adults = b.filter(lambda record: record['age'] >= 18)\n",
    "\n",
    "df_adults = adults.to_dataframe()\n",
    "\n",
    "df_adults.to_parquet(os.path.join(DATAPATH, 'adults.parquet'),\n",
    "                     write_index=False, engine='pyarrow')\n",
    "\n",
    "print(\"Zadanie 3 zakończone: Dane osób dorosłych zapisane do pliku parquet.\")"
   ]
  }
 ],
 "metadata": {
  "kernelspec": {
   "display_name": "Python 3",
   "language": "python",
   "name": "python3"
  },
  "language_info": {
   "codemirror_mode": {
    "name": "ipython",
    "version": 2
   },
   "file_extension": ".py",
   "mimetype": "text/x-python",
   "name": "python",
   "nbconvert_exporter": "python",
   "pygments_lexer": "ipython2",
   "version": "2.7.6"
  }
 },
 "nbformat": 4,
 "nbformat_minor": 5
}
