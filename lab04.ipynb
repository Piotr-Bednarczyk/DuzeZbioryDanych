{
 "cells": [
  {
   "cell_type": "code",
   "id": "initial_id",
   "metadata": {
    "collapsed": true,
    "ExecuteTime": {
     "end_time": "2024-11-04T20:12:40.302719Z",
     "start_time": "2024-11-04T20:12:37.933009Z"
    }
   },
   "source": [
    "import dask\n",
    "import dask.array as da\n",
    "import joblib\n",
    "from dask_ml.model_selection import IncrementalSearchCV\n",
    "from dask_ml.wrappers import Incremental\n",
    "from sklearn.linear_model import SGDClassifier\n",
    "from dask_ml.datasets import make_classification\n",
    "from dask_ml.model_selection import train_test_split\n",
    "from sklearn.metrics import confusion_matrix\n",
    "from dask.distributed import Client, LocalCluster"
   ],
   "outputs": [],
   "execution_count": 1
  },
  {
   "metadata": {
    "ExecuteTime": {
     "end_time": "2024-11-04T20:15:32.666510Z",
     "start_time": "2024-11-04T20:15:08.246411Z"
    }
   },
   "cell_type": "code",
   "source": [
    "# Uruchomienie klastra Dask\n",
    "cluster = LocalCluster(n_workers=4, threads_per_worker=2, memory_limit=\"8GB\", dashboard_address=':8234')\n",
    "client = Client(cluster)\n",
    "\n",
    "# Zadanie 1:\n",
    "n_samples, n_features = 1000000, 500\n",
    "X, y = make_classification(n_samples=n_samples, n_features=n_features, chunks=n_samples // 64, flip_y=0.2)\n",
    "X_train, X_test, y_train, y_test = train_test_split(X, y)\n",
    "classes = da.unique(y_train).compute()\n",
    "\n",
    "est = SGDClassifier(loss='log_loss', penalty='l2', tol=1e-3)\n",
    "inc = Incremental(est, scoring='accuracy')\n",
    "inc.fit(X_train, y_train, classes=classes)\n",
    "train_score = inc.score(X_train, y_train)\n",
    "test_score = inc.score(X_test, y_test)\n",
    "\n",
    "print(f\"Train Score: {train_score}, Test Score: {test_score}\")"
   ],
   "id": "7873c936b70dc4c0",
   "outputs": [
    {
     "name": "stderr",
     "output_type": "stream",
     "text": [
      "C:\\Users\\M\\miniconda3\\Lib\\site-packages\\dask\\base.py:1541: UserWarning: Running on a single-machine scheduler when a distributed client is active might lead to unexpected results.\n",
      "  warnings.warn(\n"
     ]
    },
    {
     "name": "stdout",
     "output_type": "stream",
     "text": [
      "Train Score: 0.5150149783103399, Test Score: 0.5156649872040947\n"
     ]
    }
   ],
   "execution_count": 2
  },
  {
   "metadata": {
    "ExecuteTime": {
     "end_time": "2024-11-04T20:17:14.714183Z",
     "start_time": "2024-11-04T20:17:08.976662Z"
    }
   },
   "cell_type": "code",
   "source": [
    "# Zadanie 2\n",
    "\n",
    "# Funkcje do serializacji i wczytywania modelu\n",
    "def save_model(model, path):\n",
    "    joblib.dump(model, path)\n",
    "\n",
    "def load_model(path):\n",
    "    return joblib.load(path)\n",
    "\n",
    "# Zapis modelu na dysk\n",
    "save_model(inc, \"incremental_model.joblib\")\n",
    "\n",
    "# Wczytanie modelu i wykonanie predykcji\n",
    "model = load_model(\"incremental_model.joblib\")\n",
    "y_pred = model.predict(X_test)\n",
    "conf_matrix = confusion_matrix(y_test.compute(), y_pred.compute())\n",
    "print(\"Confusion Matrix:\\n\", conf_matrix)"
   ],
   "id": "9d6d477ae45d7ec7",
   "outputs": [
    {
     "name": "stdout",
     "output_type": "stream",
     "text": [
      "Confusion Matrix:\n",
      " [[25116 24789]\n",
      " [23660 26467]]\n"
     ]
    }
   ],
   "execution_count": 3
  },
  {
   "metadata": {
    "ExecuteTime": {
     "end_time": "2024-11-04T20:59:20.963778Z",
     "start_time": "2024-11-04T20:17:59.657512Z"
    }
   },
   "cell_type": "code",
   "source": [
    "import numpy as np\n",
    "# Zadanie 3: Poszukiwanie optymalnych parametrów\n",
    "\n",
    "# Definicja parametrów do wyszukiwania\n",
    "params = {\n",
    "    'alpha': np.logspace(-2, 1, num=1000),\n",
    "    'l1_ratio': np.linspace(0, 1, num=1000),\n",
    "    'average': [True, False]\n",
    "}\n",
    "\n",
    "# Konfiguracja IncrementalSearchCV\n",
    "search = IncrementalSearchCV(SGDClassifier(tol=1e-3, penalty='elasticnet', random_state=0), params, random_state=0, n_initial_parameters=1000)\n",
    "search.fit(X_train, y_train, classes=classes)\n",
    "\n",
    "print(\"Best Score:\", search.best_score_)\n",
    "print(\"Best Parameters:\", search.best_params_)\n",
    "\n",
    "# Zamknięcie klienta Dask po zakończeniu pracy\n",
    "client.close()"
   ],
   "id": "f84ea403c6408c76",
   "outputs": [
    {
     "name": "stderr",
     "output_type": "stream",
     "text": [
      "C:\\Users\\M\\miniconda3\\Lib\\site-packages\\dask_ml\\model_selection\\_incremental.py:1039: FutureWarning: decay_rate has been deprecated since Dask-ML v1.4.0.\n",
      "\n",
      "    * Use InverseDecaySearchCV to use `decay_rate`\n",
      "    * Specify decay_rate=None\n",
      "\n",
      "\n",
      "  warn(\n"
     ]
    },
    {
     "name": "stdout",
     "output_type": "stream",
     "text": [
      "Best Score: 0.5730113636363636\n",
      "Best Parameters: {'l1_ratio': 0.3983983983983984, 'average': False, 'alpha': 0.03447764054734464}\n"
     ]
    }
   ],
   "execution_count": 4
  }
 ],
 "metadata": {
  "kernelspec": {
   "display_name": "Python 3",
   "language": "python",
   "name": "python3"
  },
  "language_info": {
   "codemirror_mode": {
    "name": "ipython",
    "version": 2
   },
   "file_extension": ".py",
   "mimetype": "text/x-python",
   "name": "python",
   "nbconvert_exporter": "python",
   "pygments_lexer": "ipython2",
   "version": "2.7.6"
  }
 },
 "nbformat": 4,
 "nbformat_minor": 5
}
